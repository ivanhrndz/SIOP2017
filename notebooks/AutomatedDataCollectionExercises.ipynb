{
 "cells": [
  {
   "cell_type": "markdown",
   "metadata": {},
   "source": [
    "# Automated Data Collection Exercises"
   ]
  },
  {
   "cell_type": "code",
   "execution_count": 33,
   "metadata": {
    "collapsed": false
   },
   "outputs": [],
   "source": [
    "import urllib\n",
    "from bs4 import BeautifulSoup"
   ]
  },
  {
   "cell_type": "markdown",
   "metadata": {},
   "source": [
    "## Exercise 1"
   ]
  },
  {
   "cell_type": "code",
   "execution_count": 34,
   "metadata": {
    "collapsed": false
   },
   "outputs": [
    {
     "name": "stdout",
     "output_type": "stream",
     "text": [
      "\n",
      "143.62\n",
      "\n"
     ]
    }
   ],
   "source": [
    "url = \"https://www.google.com/finance?q=AAPL\"\n",
    "sourcecode = urllib.urlopen(url)\n",
    "soup = BeautifulSoup(sourcecode, 'html.parser')\n",
    "\n",
    "content = soup.find(\"span\",{\"class\", \"pr\"})\n",
    "print content.text"
   ]
  },
  {
   "cell_type": "markdown",
   "metadata": {},
   "source": [
    "## Exercise 2"
   ]
  },
  {
   "cell_type": "code",
   "execution_count": 35,
   "metadata": {
    "collapsed": false
   },
   "outputs": [
    {
     "name": "stdout",
     "output_type": "stream",
     "text": [
      "Trump Warns That 'Major, Major Conflict' With North Korea Is Possible\n",
      "Sanders warns of possible nuclear war with North Korea\n",
      "Transcript: NPR Interviews Secretary Of State Rex Tillerson\n",
      "North Korea puts out new video showing the White House in crosshairs and carriers exploding\n",
      "Watch Live: UN Security Council Discusses North Korea\n",
      "The Daily 202: This is how Trump looks out for the people who voted for him\n",
      "Why the polls are wrong about Trump. Again.\n",
      "Donald Trump sounds like he really misses not being president\n",
      "Trump on Being President: 'I Thought It Would Be Easier'\n",
      "GDP Report Shows US Economy Off to Slow Start in 2017\n",
      "US economy grew at sluggish 0.7 percent in first quarter of 2017\n",
      "U.S. Economy Grew 0.7% in First Quarter, Slowest in Three Years\n",
      "Arkansas inmate convulses during execution, prompting calls for investigations\n",
      "Arkansas executes Kenneth Williams, 4th inmate in 8 days\n",
      "Arkansas Prepares To Carry Out Its Fourth And Final Execution Of The Month\n",
      "Warren 'troubled' by report of Wall Street-paid Obama speech\n",
      "Sanders: Obama's $400K Wall Street speech 'unfortunate'\n",
      "Sen. Elizabeth Warren says she is \"troubled\" by Obama's speaking fees\n",
      "Obama scores another $400K speaking fee amid criticism\n",
      "Trump seeks conservative revival at NRA\n",
      "Trump to Tell NRA in Person: Thank You\n",
      "Donald Trump is first president to address the NRA in 34 years\n",
      "Donald Trump delivers 100 days of 2nd Amendment victories: Chris Cox\n",
      "UK police foil second alleged London terror plot in a day\n",
      "London Terror: 'Active Plot' Foiled in UK Police Raid\n",
      "British counter-terror raids disrupted an active terrorist plot\n",
      "Armed police shoot woman in burka in London terror raid\n",
      "Furor over Holocaust comments hits Le Pen's election bid\n",
      "The Latest: France's Le Pen Reaches Out to Far-Left Voters\n",
      "The Latest: Zidane: French should stop Le Pen in election\n",
      "Le Pen's Anti-Semitism Problem Is Back as Official Quits Over Nazi Comments\n",
      "French presidential election, 2017\n",
      "Pope Francis hopes to strengthen ties with Oriental Orthodox Churches\n",
      "Scholar Praises, Cautions Vatican Dialogue with Al-Azhar University\n",
      "Pope Francis Begins Cairo Visit, Bearing Message of Peace\n",
      "Pope in Egypt Live Stream: Watch Pope Francis Make The First Papal Visit to Cairo in 20 Years\n",
      "Alone in the White House, Trump is enjoying the perks of his new home\n",
      "We're off to a great start under Trump's first 100 days\n",
      "100 Days of President Trump: The Good, the Bad, and the Ugly\n",
      "Obama blames current political climate on social media and cable news\n",
      "House Republicans fall short in scramble for vote on new health-care proposal\n",
      "No Obamacare Repeal Likely Before Donald Trump's 100th Day\n",
      "GOP's health care push tests Democratic resistance\n",
      "text - Politico\n",
      "Coulter Controversy Leaves Only Losers\n",
      "After Ann Coulter Speech Cancellation, Protesters Rally At Berkeley\n",
      "Threats of Violence, Then Calm, as Ann Coulter Is Berkeley No-Show\n",
      "The Berkeley Effect: Is this the end of civil discourse?\n",
      "No motive in Delaware trooper's fatal shooting, standoff\n",
      "Delaware standoff over: Trooper's killer shot dead after barricading himself in home\n",
      "Delaware State Police Set Up Memorial Fund for Trooper Gunned Down in Wawa Parking Lot\n",
      "Adam Schiff: Trump not 'off the hook' for Mike Flynn\n",
      "The Science of Solving Alternative Facts\n",
      "Trump admin. blames Obama for Flynn vetting: Darcy cartoon\n",
      "Amazon downgraded after strong earnings because this is 'as good as it gets'\n",
      "Amazon, Alphabet drive Nasdaq to record high\n",
      "Amazon's Cloud Business Continues to Overshadow E-Commerce\n",
      "This is 'as good as it gets,' says Pacific Crest as it downgrades Amazon\n",
      "Movers: Exxon Earnings, Time Inc. and the US Economy\n",
      "Time Inc. opts not to sell, shares down\n",
      "Time Inc. backs away from plans to sell itself\n",
      "House GOP working with White House on tax plan — for now\n",
      "Infrastructure could be Trump's key to tax reform\n",
      "Trump's Tax Plan Could Turn 'Everyone and Their Dog' Into an LLC\n",
      "Apple Is Allegedly Withholding Royalty Payments From Qualcomm As Legal Battle Continues\n",
      "Apple Cuts Off License Payments to Qualcomm as Fight Mounts\n",
      "Qualcomm issues profit warning, blames Apple\n",
      "Nintendo Being Nintendo Randomly Announces The New 2DS XL\n",
      "Nintendo's Efforts To Appeal To Children And Female Consumers With 3DS Is Paying Off\n",
      "Nintendo Just Announced a Surprise New Handheld System\n",
      "Meet Nintendo's new $150 2DS XL console, launching July 28\n",
      "There's one more reason I could never ditch my iPhone 7 Plus for a Galaxy S8\n",
      "Samsung Galaxy S8 / S8+ Review\n",
      "The Galaxy S8's home button moves, and there's a good reason for it\n",
      "Apple's self-driving test Lexus SUV photographed on Silicon Valley roads\n",
      "Apple's self-driving testbed spotted in Silicon Valley\n",
      "Lexus SUV Being Used for Apple's Self-Driving Software Test Spotted on the Road\n",
      "Check Out the Lexus That Apple's Using to Test Self-Driving Car Technology\n",
      "Apple self-driving test vehicle captured in Silicon Valley\n",
      "Uber self-driving car exec Anthony Levandowski steps aside during Google stolen technology lawsuit\n",
      "Uber's head of self-driving cars, accused of stealing a competitor's secrets, just stepped aside\n",
      "Uber's self-driving car boss, Anthony Levandowski, is stepping aside amid legal fight with Waymo\n",
      "Hannity defends Fox News co-president Shine amid report\n",
      "Hannity: High Up Person Trying to Get Fox News Co-Chief Bill Shine Fired\n",
      "Is a Management Shake-up Looming at Fox News?\n",
      "Kim Kardashian Flaunts Her Bikini Bod in Yet Another Selfie from Her Mexican Vacation\n",
      "Khloe Kardashian Blasts Haters Of Cuddly Pic With Scott Disick: Kourtney Took It\n",
      "Scott Disick Reveals He Once Proposed to Kourtney Kardashian — Find Out What Happened to the Ring!\n",
      "Jennifer Lopez: Friends Nicknamed Alex Rodriguez and Me 'J-Rod' Before Anyone Else\n",
      "J Lo THE Dress Wins Everything At Billboard Latin Awards\n",
      "Jennifer Lopez Calls Alex Rodriguez 'Amazing'\n",
      "Katy Perry Serves Up Another Hit Song With \"Bon Appétit\" (Feat. Migos)\n",
      "Katy Perry Gets SLAMMED For Collaborating With 'Homophobic' Migos On Latest Track\n",
      "Hear Katy Perry's Seductive New Song 'Bon Appetit' With Migos\n",
      "Katy Perry (@katyperry) | Twitter\n",
      "Katy Perry - Bon Appétit (Audio) ft. Migos\n",
      "Bon Appétit\n",
      "Browns make draft splash, but Hue Jackson knows work remains\n",
      "SEC remains atop NFL draft's first-round perch\n",
      "Why won't the Cleveland Browns draft a quarterback? Maybe they believe in Cody Kessler.\n",
      "Amid questions around Gareon Conley, one answer so far: He made a terrible decision\n",
      "The Browns deal their way through a surprising first round of NFL draft\n",
      "Cleveland Browns NFL Draft Live Blog (1st Round)\n",
      "Ryan Pace: If you want to be great, you can't sit on your hands\n",
      "Day 1's biggest head-scratchers: Bama prospects drop; the Bears did what?\n",
      "Skip and Shannon grade the Bears' surprising pick of Mitchell Trubisky\n",
      "San Francisco 49ers Football News, Schedule, Roster, Stats - SB Nation\n",
      "Tipsheet: Rams ready to mess up another NFL Draft\n",
      "Round 2 NFL mock draft: Where might DeShone Kizer, Dalvin Cook land?\n",
      "With tempting options (Dalvin Cook?), Jets could end second-round curse\n",
      "2017 NFL Mock Draft: Second-round picks include Dalvin Cook, DeShone Kizer\n",
      "The Texans have sent the Browns a lot of stuff lately\n",
      "The Bears, Chiefs and Texans gave up plenty for risky QB prospects ... here's why\n",
      "Texans comfortable with Savage; Watson set to 'learn'\n",
      "DNA of extinct humans found in caves\n",
      "No Bones About It: Scientists Recover Ancient DNA From Cave Dirt\n",
      "Researchers Find DNA From Extinct Humans in Cave Sediments\n",
      "Neandertal and Denisovan DNA from Pleistocene sediments | Science\n",
      "Long After Their Bones Were Gone, Neanderthals' DNA Survived in a Cave\n",
      "Cassini Spacecraft's Ring Dive Yields Saturn Surprises\n",
      "'Dragonfly' drone could explore Saturn moon Titan\n",
      "Oxford reflects fondly on Cassini as the end draws near\n",
      "NASA Spacecraft Dives Between Saturn and Its Rings | NASA\n",
      "NASA is running out of space suits — and it's years away from having new ones ready\n",
      "Here Is the Trump Transition Team's Big Plan for NASA\n",
      "NASA's $200M Spacesuit Problem Threatens Its Deep-Space Exploration Plans\n",
      "Report - NASA OIG\n",
      "Astronauts are baffled by Trump's space travel plans\n",
      "The Moon Magically Appears on the Post Office's New Total Solar Eclipse Stamp\n",
      "New eclipse Forever stamp will magically transform into the moon\n",
      "New stamp celebrates upcoming solar eclipse with heat-reactive transformation\n",
      "Total eclipse of sun on Forever stamp - about USPS\n",
      "University of Wyoming Art Museum\n",
      "Some call it 'stealthing,' others call it sexual assault\n",
      "What is stealthing? All you need to know about the dangerous sexual trend\n",
      "Stealthing is a sex crime, says Rape Crisis\n",
      "'Rape-Adjacent': Imagining Legal Responses to Nonconsensual Condom Removal by Alexandra Brodsky :: SSRN\n",
      "Inside The Online Community Of Men Who Preach Removing Condoms Without Consent\n",
      "Father of Terminally Ill Baby Carried to Term Opens Up About Her Death: 'We Felt Cheated'\n",
      "Father of Terminally Ill Daughter Opens Up About Her Death: 'We Weren't Ready'\n",
      "Parents who carried baby without brain to term say heartbreaking goodbyes\n",
      "Keri Young - Facebook\n",
      "Ian Paterson: Arrogant bully who 'mutilated' patients\n",
      "NHS pays out millions to patients of surgeon convicted of needless breast operations\n",
      "UK jury convicts doctor of performing unnecessary surgeries\n",
      "Lamb fetuses can now grow in artificial wombs. Will humans be next?\n",
      "Hope for preemies as artificial womb helps tiny lambs grow\n",
      "'Plastic bag' womb could help keep premature babies alive\n",
      "An extra-uterine system to physiologically support the extreme premature lamb : Nature Communications\n",
      "Recreating the Womb: New Hope for Premature Babies\n",
      "Amazon, Alphabet drive Nasdaq to record high\n",
      "Palestinians say 3 wounded at protests for prisoners\n",
      "Furor over Holocaust comments hits Le Pen's election bid\n",
      "The Weather Channel\n",
      "Weather Underground\n",
      "AccuWeather\n",
      "Already months behind, Flagler Street makeover on hold as city fires contractor\n",
      "The 28000-strong Mercedes-Benz Corporate Run rocks downtown Miami\n",
      "The Best Things to Do in Miami This Weekend\n",
      "Google Cloud growth is outpacing the company's ad business\n",
      "Why the Uber engineer accused of stealing Waymo secrets stepped back...\n",
      "Should your next big hire be a chief A.I. officer?\n",
      "FAQ: How to skip a Windows 10 upgrade\n",
      "BlackBerry KEYone sales delayed a month to meet demand, TCL CEO says\n"
     ]
    }
   ],
   "source": [
    "url = \"https://news.google.com/\"\n",
    "sourcecode = urllib.urlopen(url)\n",
    "soup = BeautifulSoup(sourcecode, 'html.parser')\n",
    "\n",
    "contents = soup.findAll(\"span\",{\"class\", \"titletext\"})\n",
    "for content in contents:\n",
    "    print content.text"
   ]
  },
  {
   "cell_type": "markdown",
   "metadata": {},
   "source": [
    "## Exercise 3"
   ]
  },
  {
   "cell_type": "code",
   "execution_count": 36,
   "metadata": {
    "collapsed": false
   },
   "outputs": [
    {
     "name": "stdout",
     "output_type": "stream",
     "text": [
      "/the-press-office/2017/04/27/daily-press-briefing-press-secretary-sean-spicer-42\n",
      "/the-press-office/2017/04/26/press-briefing-secretary-veterans-affairs-david-shulkin-executive-order\n",
      "/the-press-office/2017/04/26/background-briefing-first-100-days\n",
      "/the-press-office/2017/04/26/briefing-secretary-treasury-steven-mnuchin-and-director-national\n",
      "/the-press-office/2017/04/26/record-press-call-education-federalism-executive-order\n",
      "/the-press-office/2017/04/25/press-briefing-secretary-interior-ryan-zinke-executive-order-review\n",
      "/the-press-office/2017/04/25/daily-press-briefing-press-secretary-sean-spicer-and-secretary-commerce\n",
      "/the-press-office/2017/04/24/record-press-briefing-presidents-executive-order-promoting-agriculture\n",
      "/the-press-office/2017/04/24/press-briefing-press-secretary-sean-spicer-4242017-40\n",
      "/the-press-office/2017/04/21/press-gaggle-press-secretary-sean-spicer\n"
     ]
    }
   ],
   "source": [
    "url = \"https://www.whitehouse.gov/briefing-room/press-briefings\"\n",
    "sourcecode = urllib.urlopen(url)\n",
    "soup = BeautifulSoup(sourcecode, 'html.parser')\n",
    "\n",
    "contents = soup.findAll(\"a\",{\"href\" : re.compile('/the.*')})\n",
    "for link in contents:\n",
    "    print link['href']"
   ]
  },
  {
   "cell_type": "markdown",
   "metadata": {},
   "source": [
    "## Exercise 4"
   ]
  },
  {
   "cell_type": "code",
   "execution_count": 37,
   "metadata": {
    "collapsed": false
   },
   "outputs": [],
   "source": [
    "stocks = [\"AAPL\",\"GOOG\",\"MSFT\"]\n",
    "data=[]\n",
    "for stock in stocks:\n",
    "    url = \"https://www.google.com/finance?q=\"+stock\n",
    "    sourcecode = urllib.urlopen(url)\n",
    "    soup = BeautifulSoup(sourcecode, 'html.parser')\n",
    "    content = soup.find(\"span\",{\"class\", \"pr\"})\n",
    "    data.append(content.text)"
   ]
  },
  {
   "cell_type": "code",
   "execution_count": 38,
   "metadata": {
    "collapsed": false
   },
   "outputs": [
    {
     "name": "stdout",
     "output_type": "stream",
     "text": [
      "\n",
      "143.62\n",
      "\n",
      "\n",
      "912.33\n",
      "\n",
      "\n",
      "68.42\n",
      "\n"
     ]
    }
   ],
   "source": [
    "for price in data:\n",
    "    print price"
   ]
  }
 ],
 "metadata": {
  "kernelspec": {
   "display_name": "Python [Root]",
   "language": "python",
   "name": "Python [Root]"
  },
  "language_info": {
   "codemirror_mode": {
    "name": "ipython",
    "version": 2
   },
   "file_extension": ".py",
   "mimetype": "text/x-python",
   "name": "python",
   "nbconvert_exporter": "python",
   "pygments_lexer": "ipython2",
   "version": "2.7.12"
  }
 },
 "nbformat": 4,
 "nbformat_minor": 0
}
