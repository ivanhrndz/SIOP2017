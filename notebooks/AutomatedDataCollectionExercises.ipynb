{
 "cells": [
  {
   "cell_type": "markdown",
   "metadata": {},
   "source": [
    "# Automated Data Collection Exercises"
   ]
  },
  {
   "cell_type": "code",
   "execution_count": 33,
   "metadata": {
    "collapsed": false
   },
   "outputs": [],
   "source": [
    "import urllib\n",
    "from bs4 import BeautifulSoup"
   ]
  },
  {
   "cell_type": "markdown",
   "metadata": {},
   "source": [
    "## Exercise 1"
   ]
  },
  {
   "cell_type": "code",
   "execution_count": null,
   "metadata": {
    "collapsed": false
   },
   "outputs": [],
   "source": [
    "url = \"https://www.google.com/finance?q=AAPL\"\n",
    "sourcecode = urllib.urlopen(url)\n",
    "soup = BeautifulSoup(sourcecode, 'html.parser')\n",
    "\n",
    "content = soup.find(\"span\",{\"class\", \"pr\"})\n",
    "print content.text"
   ]
  },
  {
   "cell_type": "markdown",
   "metadata": {},
   "source": [
    "## Exercise 2"
   ]
  },
  {
   "cell_type": "code",
   "execution_count": null,
   "metadata": {
    "collapsed": false
   },
   "outputs": [],
   "source": [
    "url = \"https://news.google.com/\"\n",
    "sourcecode = urllib.urlopen(url)\n",
    "soup = BeautifulSoup(sourcecode, 'html.parser')\n",
    "\n",
    "contents = soup.findAll(\"span\",{\"class\", \"titletext\"})\n",
    "for content in contents:\n",
    "    print content.text"
   ]
  },
  {
   "cell_type": "markdown",
   "metadata": {},
   "source": [
    "## Exercise 3"
   ]
  },
  {
   "cell_type": "code",
   "execution_count": null,
   "metadata": {
    "collapsed": false
   },
   "outputs": [],
   "source": [
    "url = \"https://www.whitehouse.gov/briefing-room/press-briefings\"\n",
    "sourcecode = urllib.urlopen(url)\n",
    "soup = BeautifulSoup(sourcecode, 'html.parser')\n",
    "\n",
    "contents = soup.findAll(\"a\",{\"href\" : re.compile('/the.*')})\n",
    "for link in contents:\n",
    "    print link['href']"
   ]
  },
  {
   "cell_type": "markdown",
   "metadata": {},
   "source": [
    "## Exercise 4"
   ]
  },
  {
   "cell_type": "code",
   "execution_count": null,
   "metadata": {
    "collapsed": false
   },
   "outputs": [],
   "source": [
    "stocks = [\"AAPL\",\"GOOG\",\"MSFT\"]\n",
    "data=[]\n",
    "for stock in stocks:\n",
    "    url = \"https://www.google.com/finance?q=\"+stock\n",
    "    sourcecode = urllib.urlopen(url)\n",
    "    soup = BeautifulSoup(sourcecode, 'html.parser')\n",
    "    content = soup.find(\"span\",{\"class\", \"pr\"})\n",
    "    data.append(content.text)"
   ]
  },
  {
   "cell_type": "code",
   "execution_count": null,
   "metadata": {
    "collapsed": false
   },
   "outputs": [],
   "source": [
    "for stock in data:\n",
    "    print stock"
   ]
  }
 ],
 "metadata": {
  "kernelspec": {
   "display_name": "Python [Root]",
   "language": "python",
   "name": "Python [Root]"
  },
  "language_info": {
   "codemirror_mode": {
    "name": "ipython",
    "version": 2
   },
   "file_extension": ".py",
   "mimetype": "text/x-python",
   "name": "python",
   "nbconvert_exporter": "python",
   "pygments_lexer": "ipython2",
   "version": "2.7.12"
  }
 },
 "nbformat": 4,
 "nbformat_minor": 0
}
